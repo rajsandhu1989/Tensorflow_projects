{
 "cells": [
  {
   "cell_type": "code",
   "execution_count": 2,
   "metadata": {},
   "outputs": [],
   "source": [
    "import numpy as np\n",
    "import pandas as pd\n",
    "import tensorflow as tf\n",
    "import matplotlib.pyplot as plt\n",
    "import seaborn as sns"
   ]
  },
  {
   "cell_type": "code",
   "execution_count": 3,
   "metadata": {},
   "outputs": [
    {
     "data": {
      "text/html": [
       "<div>\n",
       "<style scoped>\n",
       "    .dataframe tbody tr th:only-of-type {\n",
       "        vertical-align: middle;\n",
       "    }\n",
       "\n",
       "    .dataframe tbody tr th {\n",
       "        vertical-align: top;\n",
       "    }\n",
       "\n",
       "    .dataframe thead th {\n",
       "        text-align: right;\n",
       "    }\n",
       "</style>\n",
       "<table border=\"1\" class=\"dataframe\">\n",
       "  <thead>\n",
       "    <tr style=\"text-align: right;\">\n",
       "      <th></th>\n",
       "      <th>ID</th>\n",
       "      <th>LIMIT_BAL</th>\n",
       "      <th>SEX</th>\n",
       "      <th>EDUCATION</th>\n",
       "      <th>MARRIAGE</th>\n",
       "      <th>AGE</th>\n",
       "      <th>PAY_0</th>\n",
       "      <th>PAY_2</th>\n",
       "      <th>PAY_3</th>\n",
       "      <th>PAY_4</th>\n",
       "      <th>...</th>\n",
       "      <th>BILL_AMT4</th>\n",
       "      <th>BILL_AMT5</th>\n",
       "      <th>BILL_AMT6</th>\n",
       "      <th>PAY_AMT1</th>\n",
       "      <th>PAY_AMT2</th>\n",
       "      <th>PAY_AMT3</th>\n",
       "      <th>PAY_AMT4</th>\n",
       "      <th>PAY_AMT5</th>\n",
       "      <th>PAY_AMT6</th>\n",
       "      <th>default.payment.next.month</th>\n",
       "    </tr>\n",
       "  </thead>\n",
       "  <tbody>\n",
       "    <tr>\n",
       "      <th>0</th>\n",
       "      <td>1</td>\n",
       "      <td>20000.0</td>\n",
       "      <td>2</td>\n",
       "      <td>2</td>\n",
       "      <td>1</td>\n",
       "      <td>24</td>\n",
       "      <td>2</td>\n",
       "      <td>2</td>\n",
       "      <td>-1</td>\n",
       "      <td>-1</td>\n",
       "      <td>...</td>\n",
       "      <td>0.0</td>\n",
       "      <td>0.0</td>\n",
       "      <td>0.0</td>\n",
       "      <td>0.0</td>\n",
       "      <td>689.0</td>\n",
       "      <td>0.0</td>\n",
       "      <td>0.0</td>\n",
       "      <td>0.0</td>\n",
       "      <td>0.0</td>\n",
       "      <td>1</td>\n",
       "    </tr>\n",
       "    <tr>\n",
       "      <th>1</th>\n",
       "      <td>2</td>\n",
       "      <td>120000.0</td>\n",
       "      <td>2</td>\n",
       "      <td>2</td>\n",
       "      <td>2</td>\n",
       "      <td>26</td>\n",
       "      <td>-1</td>\n",
       "      <td>2</td>\n",
       "      <td>0</td>\n",
       "      <td>0</td>\n",
       "      <td>...</td>\n",
       "      <td>3272.0</td>\n",
       "      <td>3455.0</td>\n",
       "      <td>3261.0</td>\n",
       "      <td>0.0</td>\n",
       "      <td>1000.0</td>\n",
       "      <td>1000.0</td>\n",
       "      <td>1000.0</td>\n",
       "      <td>0.0</td>\n",
       "      <td>2000.0</td>\n",
       "      <td>1</td>\n",
       "    </tr>\n",
       "    <tr>\n",
       "      <th>2</th>\n",
       "      <td>3</td>\n",
       "      <td>90000.0</td>\n",
       "      <td>2</td>\n",
       "      <td>2</td>\n",
       "      <td>2</td>\n",
       "      <td>34</td>\n",
       "      <td>0</td>\n",
       "      <td>0</td>\n",
       "      <td>0</td>\n",
       "      <td>0</td>\n",
       "      <td>...</td>\n",
       "      <td>14331.0</td>\n",
       "      <td>14948.0</td>\n",
       "      <td>15549.0</td>\n",
       "      <td>1518.0</td>\n",
       "      <td>1500.0</td>\n",
       "      <td>1000.0</td>\n",
       "      <td>1000.0</td>\n",
       "      <td>1000.0</td>\n",
       "      <td>5000.0</td>\n",
       "      <td>0</td>\n",
       "    </tr>\n",
       "    <tr>\n",
       "      <th>3</th>\n",
       "      <td>4</td>\n",
       "      <td>50000.0</td>\n",
       "      <td>2</td>\n",
       "      <td>2</td>\n",
       "      <td>1</td>\n",
       "      <td>37</td>\n",
       "      <td>0</td>\n",
       "      <td>0</td>\n",
       "      <td>0</td>\n",
       "      <td>0</td>\n",
       "      <td>...</td>\n",
       "      <td>28314.0</td>\n",
       "      <td>28959.0</td>\n",
       "      <td>29547.0</td>\n",
       "      <td>2000.0</td>\n",
       "      <td>2019.0</td>\n",
       "      <td>1200.0</td>\n",
       "      <td>1100.0</td>\n",
       "      <td>1069.0</td>\n",
       "      <td>1000.0</td>\n",
       "      <td>0</td>\n",
       "    </tr>\n",
       "    <tr>\n",
       "      <th>4</th>\n",
       "      <td>5</td>\n",
       "      <td>50000.0</td>\n",
       "      <td>1</td>\n",
       "      <td>2</td>\n",
       "      <td>1</td>\n",
       "      <td>57</td>\n",
       "      <td>-1</td>\n",
       "      <td>0</td>\n",
       "      <td>-1</td>\n",
       "      <td>0</td>\n",
       "      <td>...</td>\n",
       "      <td>20940.0</td>\n",
       "      <td>19146.0</td>\n",
       "      <td>19131.0</td>\n",
       "      <td>2000.0</td>\n",
       "      <td>36681.0</td>\n",
       "      <td>10000.0</td>\n",
       "      <td>9000.0</td>\n",
       "      <td>689.0</td>\n",
       "      <td>679.0</td>\n",
       "      <td>0</td>\n",
       "    </tr>\n",
       "  </tbody>\n",
       "</table>\n",
       "<p>5 rows × 25 columns</p>\n",
       "</div>"
      ],
      "text/plain": [
       "   ID  LIMIT_BAL  SEX  EDUCATION  MARRIAGE  AGE  PAY_0  PAY_2  PAY_3  PAY_4  \\\n",
       "0   1    20000.0    2          2         1   24      2      2     -1     -1   \n",
       "1   2   120000.0    2          2         2   26     -1      2      0      0   \n",
       "2   3    90000.0    2          2         2   34      0      0      0      0   \n",
       "3   4    50000.0    2          2         1   37      0      0      0      0   \n",
       "4   5    50000.0    1          2         1   57     -1      0     -1      0   \n",
       "\n",
       "   ...  BILL_AMT4  BILL_AMT5  BILL_AMT6  PAY_AMT1  PAY_AMT2  PAY_AMT3  \\\n",
       "0  ...        0.0        0.0        0.0       0.0     689.0       0.0   \n",
       "1  ...     3272.0     3455.0     3261.0       0.0    1000.0    1000.0   \n",
       "2  ...    14331.0    14948.0    15549.0    1518.0    1500.0    1000.0   \n",
       "3  ...    28314.0    28959.0    29547.0    2000.0    2019.0    1200.0   \n",
       "4  ...    20940.0    19146.0    19131.0    2000.0   36681.0   10000.0   \n",
       "\n",
       "   PAY_AMT4  PAY_AMT5  PAY_AMT6  default.payment.next.month  \n",
       "0       0.0       0.0       0.0                           1  \n",
       "1    1000.0       0.0    2000.0                           1  \n",
       "2    1000.0    1000.0    5000.0                           0  \n",
       "3    1100.0    1069.0    1000.0                           0  \n",
       "4    9000.0     689.0     679.0                           0  \n",
       "\n",
       "[5 rows x 25 columns]"
      ]
     },
     "execution_count": 3,
     "metadata": {},
     "output_type": "execute_result"
    }
   ],
   "source": [
    "credit_data=pd.read_csv(\"uci_credit_card.csv\")\n",
    "credit_data.head()"
   ]
  },
  {
   "cell_type": "code",
   "execution_count": 13,
   "metadata": {},
   "outputs": [
    {
     "data": {
      "text/plain": [
       "Index(['ID', 'LIMIT_BAL', 'SEX', 'EDUCATION', 'MARRIAGE', 'AGE', 'PAY_0',\n",
       "       'PAY_2', 'PAY_3', 'PAY_4', 'PAY_5', 'PAY_6', 'BILL_AMT1', 'BILL_AMT2',\n",
       "       'BILL_AMT3', 'BILL_AMT4', 'BILL_AMT5', 'BILL_AMT6', 'PAY_AMT1',\n",
       "       'PAY_AMT2', 'PAY_AMT3', 'PAY_AMT4', 'PAY_AMT5', 'PAY_AMT6',\n",
       "       'default.payment.next.month'],\n",
       "      dtype='object')"
      ]
     },
     "execution_count": 13,
     "metadata": {},
     "output_type": "execute_result"
    }
   ],
   "source": [
    "credit_data.columns"
   ]
  },
  {
   "cell_type": "code",
   "execution_count": 24,
   "metadata": {},
   "outputs": [
    {
     "name": "stdout",
     "output_type": "stream",
     "text": [
      "<class 'numpy.ndarray'>\n"
     ]
    }
   ],
   "source": [
    "input_data=np.array(credit_data[['LIMIT_BAL', 'SEX', 'EDUCATION', 'MARRIAGE', 'AGE', 'PAY_0','BILL_AMT1','PAY_AMT1']])\n",
    "#input_data=tf.constant(input_data, tf.float32)\n",
    "label=np.array(credit_data['default.payment.next.month'])\n",
    "#label=tf.constant(label, tf.float32)\n",
    "print(type(input_data))"
   ]
  },
  {
   "cell_type": "code",
   "execution_count": 19,
   "metadata": {},
   "outputs": [
    {
     "name": "stdout",
     "output_type": "stream",
     "text": [
      "(30000, 8)\n"
     ]
    }
   ],
   "source": [
    "print(input_data.shape)"
   ]
  },
  {
   "cell_type": "code",
   "execution_count": 27,
   "metadata": {},
   "outputs": [
    {
     "name": "stdout",
     "output_type": "stream",
     "text": [
      "\n",
      " shape of dense1:  (30000, 5)\n",
      "\n",
      " shape of dense2:  (30000, 3)\n",
      "\n",
      " shape of predictions:  (30000, 1)\n"
     ]
    }
   ],
   "source": [
    "# Define the first dense layer\n",
    "dense1 = tf.keras.layers.Dense(5, activation='relu')(input_data)\n",
    "\n",
    "# Define a dense layer with 3 output nodes\n",
    "dense2 = tf.keras.layers.Dense(3, activation='relu')(dense1)\n",
    "\n",
    "# Define a dense layer with 1 output node\n",
    "predictions = tf.keras.layers.Dense(1, activation='sigmoid')(dense2)\n",
    "\n",
    "# Print the shapes of dense1, dense2, and predictions\n",
    "print('\\n shape of dense1: ', dense1.shape)\n",
    "print('\\n shape of dense2: ', dense2.shape)\n",
    "print('\\n shape of predictions: ', predictions.shape)"
   ]
  },
  {
   "cell_type": "code",
   "execution_count": 26,
   "metadata": {},
   "outputs": [],
   "source": [
    "# Define the first dense layer\n",
    "dense1 = tf.keras.layers.Dense(5)(input_data)\n",
    "dense1=tf.keras.layers.Activation('relu')(dense1)\n",
    "\n",
    "# Define a dense layer with 3 output nodes\n",
    "dense2 = tf.keras.layers.Dense(3, activation='relu')(dense1)\n",
    "\n",
    "# Define a dense layer with 1 output node\n",
    "predictions = tf.keras.layers.Dense(1, activation='sigmoid')(dense2)"
   ]
  },
  {
   "cell_type": "code",
   "execution_count": 19,
   "metadata": {},
   "outputs": [
    {
     "name": "stdout",
     "output_type": "stream",
     "text": [
      "tf.Tensor(\n",
      "[[[-0.6970166   1.0116735   0.10525291  0.5258683 ]\n",
      "  [ 0.38121694  0.5901393   1.39418    -0.2867037 ]\n",
      "  [-0.04971446 -0.5718816  -0.6477137   0.16433775]]\n",
      "\n",
      " [[ 1.5235674   0.7954769  -0.21502861 -2.0831382 ]\n",
      "  [ 1.4538095   0.644875    0.29210842  1.9168937 ]\n",
      "  [-0.41998354  3.2115664  -0.4153921  -0.14810681]]], shape=(2, 3, 4), dtype=float32)\n"
     ]
    }
   ],
   "source": [
    "input_shape = (2, 3, 4)\n",
    "x1 = tf.random.normal(input_shape)\n",
    "x2 = tf.random.normal(input_shape)\n",
    "y = tf.keras.layers.Add()([x1, x2])\n",
    "print(x1)"
   ]
  },
  {
   "cell_type": "code",
   "execution_count": 32,
   "metadata": {},
   "outputs": [
    {
     "name": "stdout",
     "output_type": "stream",
     "text": [
      "Model: \"sequential_6\"\n",
      "_________________________________________________________________\n",
      " Layer (type)                Output Shape              Param #   \n",
      "=================================================================\n",
      " dense_18 (Dense)            (None, 5)                 45        \n",
      "                                                                 \n",
      " dense_19 (Dense)            (None, 3)                 18        \n",
      "                                                                 \n",
      " dense_20 (Dense)            (None, 1)                 4         \n",
      "                                                                 \n",
      "=================================================================\n",
      "Total params: 67\n",
      "Trainable params: 67\n",
      "Non-trainable params: 0\n",
      "_________________________________________________________________\n",
      "None\n"
     ]
    }
   ],
   "source": [
    "# Import required packages\n",
    "import tensorflow as tf\n",
    "import keras\n",
    "from keras.layers import Dense\n",
    "#Create a sequential Model\n",
    "model=keras.models.Sequential()\n",
    "#Add input layer\n",
    "model.add(Dense(5, input_shape=(8,), activation=\"relu\"))\n",
    "#Add Hidden Layer\n",
    "model.add(Dense(3, activation=\"relu\"))\n",
    "#Add output layer\n",
    "model.add(Dense(1, activation=\"sigmoid\"))\n",
    "#print model \n",
    "print(model.summary())\n",
    "\n"
   ]
  },
  {
   "cell_type": "code",
   "execution_count": 25,
   "metadata": {},
   "outputs": [],
   "source": [
    "from sklearn.model_selection import train_test_split\n",
    "X_train, X_test, y_train, y_test = train_test_split(input_data, label, test_size=0.30, random_state=42)"
   ]
  },
  {
   "cell_type": "code",
   "execution_count": 29,
   "metadata": {},
   "outputs": [
    {
     "name": "stdout",
     "output_type": "stream",
     "text": [
      "Epoch 1/30\n",
      "657/657 [==============================] - 1s 452us/step - loss: 377.9076\n",
      "Epoch 2/30\n",
      "657/657 [==============================] - 0s 448us/step - loss: 9.4631\n",
      "Epoch 3/30\n",
      "657/657 [==============================] - 0s 445us/step - loss: 10.5645\n",
      "Epoch 4/30\n",
      "657/657 [==============================] - 0s 444us/step - loss: 10.4998\n",
      "Epoch 5/30\n",
      "657/657 [==============================] - 0s 449us/step - loss: 8.2624\n",
      "Epoch 6/30\n",
      "657/657 [==============================] - 0s 445us/step - loss: 6.5393\n",
      "Epoch 7/30\n",
      "657/657 [==============================] - 0s 455us/step - loss: 4.8979\n",
      "Epoch 8/30\n",
      "657/657 [==============================] - 0s 446us/step - loss: 3.2138\n",
      "Epoch 9/30\n",
      "657/657 [==============================] - 0s 444us/step - loss: 4.9639\n",
      "Epoch 10/30\n",
      "657/657 [==============================] - 0s 456us/step - loss: 3.8415\n",
      "Epoch 11/30\n",
      "657/657 [==============================] - 0s 438us/step - loss: 2.7236\n",
      "Epoch 12/30\n",
      "657/657 [==============================] - 0s 438us/step - loss: 2.4354\n",
      "Epoch 13/30\n",
      "657/657 [==============================] - 0s 446us/step - loss: 2.3211\n",
      "Epoch 14/30\n",
      "657/657 [==============================] - 0s 444us/step - loss: 1.3540\n",
      "Epoch 15/30\n",
      "657/657 [==============================] - 0s 442us/step - loss: 1.5387\n",
      "Epoch 16/30\n",
      "657/657 [==============================] - 0s 450us/step - loss: 1.9471\n",
      "Epoch 17/30\n",
      "657/657 [==============================] - 0s 461us/step - loss: 1.2510\n",
      "Epoch 18/30\n",
      "657/657 [==============================] - 0s 442us/step - loss: 0.8464\n",
      "Epoch 19/30\n",
      "657/657 [==============================] - 0s 442us/step - loss: 0.6308\n",
      "Epoch 20/30\n",
      "657/657 [==============================] - 0s 446us/step - loss: 0.5483\n",
      "Epoch 21/30\n",
      "657/657 [==============================] - 0s 445us/step - loss: 0.5303\n",
      "Epoch 22/30\n",
      "657/657 [==============================] - 0s 442us/step - loss: 0.5303\n",
      "Epoch 23/30\n",
      "657/657 [==============================] - 0s 442us/step - loss: 0.5303\n",
      "Epoch 24/30\n",
      "657/657 [==============================] - 0s 449us/step - loss: 0.5303\n",
      "Epoch 25/30\n",
      "657/657 [==============================] - 0s 457us/step - loss: 0.5303\n",
      "Epoch 26/30\n",
      "657/657 [==============================] - 0s 441us/step - loss: 0.5303\n",
      "Epoch 27/30\n",
      "657/657 [==============================] - 0s 444us/step - loss: 0.5303\n",
      "Epoch 28/30\n",
      "657/657 [==============================] - 0s 445us/step - loss: 0.5303\n",
      "Epoch 29/30\n",
      "657/657 [==============================] - 0s 444us/step - loss: 0.5303\n",
      "Epoch 30/30\n",
      "657/657 [==============================] - 0s 452us/step - loss: 0.5303\n"
     ]
    },
    {
     "data": {
      "text/plain": [
       "<keras.callbacks.History at 0x14eadafde50>"
      ]
     },
     "execution_count": 29,
     "metadata": {},
     "output_type": "execute_result"
    }
   ],
   "source": [
    "# Compiling your previously built model\n",
    "model.compile(optimizer=\"adam\", loss=\"binary_crossentropy\")\n",
    "# Fit the model to the training data\n",
    "model.fit(X_train, y_train, epochs=30)"
   ]
  },
  {
   "cell_type": "code",
   "execution_count": 30,
   "metadata": {},
   "outputs": [
    {
     "data": {
      "text/plain": [
       "(21000, 8)"
      ]
     },
     "execution_count": 30,
     "metadata": {},
     "output_type": "execute_result"
    }
   ],
   "source": [
    "X_train.shape"
   ]
  },
  {
   "cell_type": "code",
   "execution_count": 15,
   "metadata": {},
   "outputs": [
    {
     "name": "stdout",
     "output_type": "stream",
     "text": [
      "Epoch 1/30\n",
      "938/938 [==============================] - 0s 471us/step - loss: 6.3752\n",
      "Epoch 2/30\n",
      "938/938 [==============================] - 0s 458us/step - loss: 5.5420\n",
      "Epoch 3/30\n",
      "938/938 [==============================] - 0s 458us/step - loss: 4.9926\n",
      "Epoch 4/30\n",
      "938/938 [==============================] - 0s 455us/step - loss: 4.6701\n",
      "Epoch 5/30\n",
      "938/938 [==============================] - 0s 453us/step - loss: 3.1219\n",
      "Epoch 6/30\n",
      "938/938 [==============================] - 0s 460us/step - loss: 1.9808\n",
      "Epoch 7/30\n",
      "938/938 [==============================] - 0s 461us/step - loss: 0.9144\n",
      "Epoch 8/30\n",
      "938/938 [==============================] - 0s 455us/step - loss: 0.7632\n",
      "Epoch 9/30\n",
      "938/938 [==============================] - 0s 457us/step - loss: 0.5895\n",
      "Epoch 10/30\n",
      "938/938 [==============================] - 0s 460us/step - loss: 0.5409\n",
      "Epoch 11/30\n",
      "938/938 [==============================] - 0s 464us/step - loss: 0.5357\n",
      "Epoch 12/30\n",
      "938/938 [==============================] - 0s 468us/step - loss: 0.5355\n",
      "Epoch 13/30\n",
      "938/938 [==============================] - 0s 457us/step - loss: 0.5311\n",
      "Epoch 14/30\n",
      "938/938 [==============================] - 0s 452us/step - loss: 0.5284\n",
      "Epoch 15/30\n",
      "938/938 [==============================] - 0s 461us/step - loss: 0.5284\n",
      "Epoch 16/30\n",
      "938/938 [==============================] - 0s 452us/step - loss: 0.5284\n",
      "Epoch 17/30\n",
      "938/938 [==============================] - 0s 456us/step - loss: 0.5284\n",
      "Epoch 18/30\n",
      "938/938 [==============================] - 0s 453us/step - loss: 0.5284\n",
      "Epoch 19/30\n",
      "938/938 [==============================] - 0s 458us/step - loss: 0.5284\n",
      "Epoch 20/30\n",
      "938/938 [==============================] - 0s 455us/step - loss: 0.5284\n",
      "Epoch 21/30\n",
      "938/938 [==============================] - 0s 463us/step - loss: 0.5284\n",
      "Epoch 22/30\n",
      "938/938 [==============================] - 0s 453us/step - loss: 0.5284\n",
      "Epoch 23/30\n",
      "938/938 [==============================] - 0s 458us/step - loss: 0.5284\n",
      "Epoch 24/30\n",
      "938/938 [==============================] - 0s 454us/step - loss: 0.5284\n",
      "Epoch 25/30\n",
      "938/938 [==============================] - 0s 455us/step - loss: 0.5284\n",
      "Epoch 26/30\n",
      "938/938 [==============================] - 0s 452us/step - loss: 0.5284\n",
      "Epoch 27/30\n",
      "938/938 [==============================] - 0s 454us/step - loss: 0.5284\n",
      "Epoch 28/30\n",
      "938/938 [==============================] - 0s 461us/step - loss: 0.5284\n",
      "Epoch 29/30\n",
      "938/938 [==============================] - 0s 454us/step - loss: 0.5284\n",
      "Epoch 30/30\n",
      "938/938 [==============================] - 0s 457us/step - loss: 0.5284\n"
     ]
    },
    {
     "data": {
      "text/plain": [
       "<keras.callbacks.History at 0x14eaaeb4670>"
      ]
     },
     "execution_count": 15,
     "metadata": {},
     "output_type": "execute_result"
    }
   ],
   "source": [
    "model.fit(input_data, label, epochs=30)"
   ]
  },
  {
   "cell_type": "code",
   "execution_count": 31,
   "metadata": {},
   "outputs": [
    {
     "name": "stdout",
     "output_type": "stream",
     "text": [
      "282/282 [==============================] - 0s 371us/step - loss: 0.5242\n"
     ]
    },
    {
     "data": {
      "text/plain": [
       "0.5241618752479553"
      ]
     },
     "execution_count": 31,
     "metadata": {},
     "output_type": "execute_result"
    }
   ],
   "source": [
    "# Evaluate your results\n",
    "model.evaluate(X_test, y_test)"
   ]
  },
  {
   "cell_type": "code",
   "execution_count": null,
   "metadata": {},
   "outputs": [],
   "source": []
  }
 ],
 "metadata": {
  "interpreter": {
   "hash": "b3ba2566441a7c06988d0923437866b63cedc61552a5af99d1f4fb67d367b25f"
  },
  "kernelspec": {
   "display_name": "Python 3.8.5 ('base')",
   "language": "python",
   "name": "python3"
  },
  "language_info": {
   "codemirror_mode": {
    "name": "ipython",
    "version": 3
   },
   "file_extension": ".py",
   "mimetype": "text/x-python",
   "name": "python",
   "nbconvert_exporter": "python",
   "pygments_lexer": "ipython3",
   "version": "3.8.5"
  },
  "orig_nbformat": 4
 },
 "nbformat": 4,
 "nbformat_minor": 2
}
