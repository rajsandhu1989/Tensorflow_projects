{
 "cells": [
  {
   "cell_type": "code",
   "execution_count": 59,
   "metadata": {},
   "outputs": [],
   "source": [
    "import numpy as np\n",
    "import pandas as pd\n",
    "from sklearn.utils import shuffle"
   ]
  },
  {
   "cell_type": "code",
   "execution_count": 60,
   "metadata": {},
   "outputs": [],
   "source": [
    "bankNote=pd.read_csv('banknote.csv')\n",
    "car=pd.read_csv('car.csv')\n",
    "bankNote=shuffle(bankNote)"
   ]
  },
  {
   "cell_type": "code",
   "execution_count": 4,
   "metadata": {},
   "outputs": [],
   "source": [
    "from scipy.io import arff\n",
    "import pandas as pd"
   ]
  },
  {
   "cell_type": "code",
   "execution_count": 5,
   "metadata": {},
   "outputs": [
    {
     "data": {
      "text/html": [
       "<div>\n",
       "<style scoped>\n",
       "    .dataframe tbody tr th:only-of-type {\n",
       "        vertical-align: middle;\n",
       "    }\n",
       "\n",
       "    .dataframe tbody tr th {\n",
       "        vertical-align: top;\n",
       "    }\n",
       "\n",
       "    .dataframe thead th {\n",
       "        text-align: right;\n",
       "    }\n",
       "</style>\n",
       "<table border=\"1\" class=\"dataframe\">\n",
       "  <thead>\n",
       "    <tr style=\"text-align: right;\">\n",
       "      <th></th>\n",
       "      <th>Mean_Acc1298_Mean_Mem40_Centroid</th>\n",
       "      <th>Mean_Acc1298_Mean_Mem40_Rolloff</th>\n",
       "      <th>Mean_Acc1298_Mean_Mem40_Flux</th>\n",
       "      <th>Mean_Acc1298_Mean_Mem40_MFCC_0</th>\n",
       "      <th>Mean_Acc1298_Mean_Mem40_MFCC_1</th>\n",
       "      <th>Mean_Acc1298_Mean_Mem40_MFCC_2</th>\n",
       "      <th>Mean_Acc1298_Mean_Mem40_MFCC_3</th>\n",
       "      <th>Mean_Acc1298_Mean_Mem40_MFCC_4</th>\n",
       "      <th>Mean_Acc1298_Mean_Mem40_MFCC_5</th>\n",
       "      <th>Mean_Acc1298_Mean_Mem40_MFCC_6</th>\n",
       "      <th>...</th>\n",
       "      <th>BH_HighLowRatio</th>\n",
       "      <th>BHSUM1</th>\n",
       "      <th>BHSUM2</th>\n",
       "      <th>BHSUM3</th>\n",
       "      <th>amazed-suprised</th>\n",
       "      <th>happy-pleased</th>\n",
       "      <th>relaxing-calm</th>\n",
       "      <th>quiet-still</th>\n",
       "      <th>sad-lonely</th>\n",
       "      <th>angry-aggresive</th>\n",
       "    </tr>\n",
       "  </thead>\n",
       "  <tbody>\n",
       "    <tr>\n",
       "      <th>0</th>\n",
       "      <td>0.034741</td>\n",
       "      <td>0.089665</td>\n",
       "      <td>0.091225</td>\n",
       "      <td>-73.302422</td>\n",
       "      <td>6.215179</td>\n",
       "      <td>0.615074</td>\n",
       "      <td>2.037160</td>\n",
       "      <td>0.804065</td>\n",
       "      <td>1.301409</td>\n",
       "      <td>0.558576</td>\n",
       "      <td>...</td>\n",
       "      <td>2.0</td>\n",
       "      <td>0.245457</td>\n",
       "      <td>0.105065</td>\n",
       "      <td>0.405399</td>\n",
       "      <td>b'0'</td>\n",
       "      <td>b'1'</td>\n",
       "      <td>b'1'</td>\n",
       "      <td>b'0'</td>\n",
       "      <td>b'0'</td>\n",
       "      <td>b'0'</td>\n",
       "    </tr>\n",
       "    <tr>\n",
       "      <th>1</th>\n",
       "      <td>0.081374</td>\n",
       "      <td>0.272747</td>\n",
       "      <td>0.085733</td>\n",
       "      <td>-62.584437</td>\n",
       "      <td>3.183163</td>\n",
       "      <td>-0.218145</td>\n",
       "      <td>0.163038</td>\n",
       "      <td>0.620251</td>\n",
       "      <td>0.458514</td>\n",
       "      <td>0.041426</td>\n",
       "      <td>...</td>\n",
       "      <td>2.0</td>\n",
       "      <td>0.343547</td>\n",
       "      <td>0.276366</td>\n",
       "      <td>0.710924</td>\n",
       "      <td>b'1'</td>\n",
       "      <td>b'0'</td>\n",
       "      <td>b'0'</td>\n",
       "      <td>b'0'</td>\n",
       "      <td>b'0'</td>\n",
       "      <td>b'1'</td>\n",
       "    </tr>\n",
       "    <tr>\n",
       "      <th>2</th>\n",
       "      <td>0.110545</td>\n",
       "      <td>0.273567</td>\n",
       "      <td>0.084410</td>\n",
       "      <td>-65.235325</td>\n",
       "      <td>2.794964</td>\n",
       "      <td>0.639047</td>\n",
       "      <td>1.281297</td>\n",
       "      <td>0.757896</td>\n",
       "      <td>0.489412</td>\n",
       "      <td>0.627636</td>\n",
       "      <td>...</td>\n",
       "      <td>3.0</td>\n",
       "      <td>0.188693</td>\n",
       "      <td>0.045941</td>\n",
       "      <td>0.457372</td>\n",
       "      <td>b'0'</td>\n",
       "      <td>b'1'</td>\n",
       "      <td>b'0'</td>\n",
       "      <td>b'0'</td>\n",
       "      <td>b'0'</td>\n",
       "      <td>b'1'</td>\n",
       "    </tr>\n",
       "    <tr>\n",
       "      <th>3</th>\n",
       "      <td>0.042481</td>\n",
       "      <td>0.199281</td>\n",
       "      <td>0.093447</td>\n",
       "      <td>-80.305152</td>\n",
       "      <td>5.824409</td>\n",
       "      <td>0.648848</td>\n",
       "      <td>1.754870</td>\n",
       "      <td>1.495532</td>\n",
       "      <td>0.739909</td>\n",
       "      <td>0.809644</td>\n",
       "      <td>...</td>\n",
       "      <td>2.0</td>\n",
       "      <td>0.102839</td>\n",
       "      <td>0.241934</td>\n",
       "      <td>0.351009</td>\n",
       "      <td>b'0'</td>\n",
       "      <td>b'0'</td>\n",
       "      <td>b'1'</td>\n",
       "      <td>b'0'</td>\n",
       "      <td>b'0'</td>\n",
       "      <td>b'0'</td>\n",
       "    </tr>\n",
       "    <tr>\n",
       "      <th>4</th>\n",
       "      <td>0.074550</td>\n",
       "      <td>0.140880</td>\n",
       "      <td>0.079789</td>\n",
       "      <td>-93.697749</td>\n",
       "      <td>5.543229</td>\n",
       "      <td>1.064262</td>\n",
       "      <td>0.899152</td>\n",
       "      <td>0.890336</td>\n",
       "      <td>0.702328</td>\n",
       "      <td>0.490685</td>\n",
       "      <td>...</td>\n",
       "      <td>2.0</td>\n",
       "      <td>0.195196</td>\n",
       "      <td>0.310801</td>\n",
       "      <td>0.683817</td>\n",
       "      <td>b'0'</td>\n",
       "      <td>b'0'</td>\n",
       "      <td>b'0'</td>\n",
       "      <td>b'1'</td>\n",
       "      <td>b'0'</td>\n",
       "      <td>b'0'</td>\n",
       "    </tr>\n",
       "  </tbody>\n",
       "</table>\n",
       "<p>5 rows × 78 columns</p>\n",
       "</div>"
      ],
      "text/plain": [
       "   Mean_Acc1298_Mean_Mem40_Centroid  Mean_Acc1298_Mean_Mem40_Rolloff  \\\n",
       "0                          0.034741                         0.089665   \n",
       "1                          0.081374                         0.272747   \n",
       "2                          0.110545                         0.273567   \n",
       "3                          0.042481                         0.199281   \n",
       "4                          0.074550                         0.140880   \n",
       "\n",
       "   Mean_Acc1298_Mean_Mem40_Flux  Mean_Acc1298_Mean_Mem40_MFCC_0  \\\n",
       "0                      0.091225                      -73.302422   \n",
       "1                      0.085733                      -62.584437   \n",
       "2                      0.084410                      -65.235325   \n",
       "3                      0.093447                      -80.305152   \n",
       "4                      0.079789                      -93.697749   \n",
       "\n",
       "   Mean_Acc1298_Mean_Mem40_MFCC_1  Mean_Acc1298_Mean_Mem40_MFCC_2  \\\n",
       "0                        6.215179                        0.615074   \n",
       "1                        3.183163                       -0.218145   \n",
       "2                        2.794964                        0.639047   \n",
       "3                        5.824409                        0.648848   \n",
       "4                        5.543229                        1.064262   \n",
       "\n",
       "   Mean_Acc1298_Mean_Mem40_MFCC_3  Mean_Acc1298_Mean_Mem40_MFCC_4  \\\n",
       "0                        2.037160                        0.804065   \n",
       "1                        0.163038                        0.620251   \n",
       "2                        1.281297                        0.757896   \n",
       "3                        1.754870                        1.495532   \n",
       "4                        0.899152                        0.890336   \n",
       "\n",
       "   Mean_Acc1298_Mean_Mem40_MFCC_5  Mean_Acc1298_Mean_Mem40_MFCC_6  ...  \\\n",
       "0                        1.301409                        0.558576  ...   \n",
       "1                        0.458514                        0.041426  ...   \n",
       "2                        0.489412                        0.627636  ...   \n",
       "3                        0.739909                        0.809644  ...   \n",
       "4                        0.702328                        0.490685  ...   \n",
       "\n",
       "   BH_HighLowRatio    BHSUM1    BHSUM2    BHSUM3  amazed-suprised  \\\n",
       "0              2.0  0.245457  0.105065  0.405399             b'0'   \n",
       "1              2.0  0.343547  0.276366  0.710924             b'1'   \n",
       "2              3.0  0.188693  0.045941  0.457372             b'0'   \n",
       "3              2.0  0.102839  0.241934  0.351009             b'0'   \n",
       "4              2.0  0.195196  0.310801  0.683817             b'0'   \n",
       "\n",
       "   happy-pleased  relaxing-calm  quiet-still  sad-lonely  angry-aggresive  \n",
       "0           b'1'           b'1'         b'0'        b'0'             b'0'  \n",
       "1           b'0'           b'0'         b'0'        b'0'             b'1'  \n",
       "2           b'1'           b'0'         b'0'        b'0'             b'1'  \n",
       "3           b'0'           b'1'         b'0'        b'0'             b'0'  \n",
       "4           b'0'           b'0'         b'1'        b'0'             b'0'  \n",
       "\n",
       "[5 rows x 78 columns]"
      ]
     },
     "execution_count": 5,
     "metadata": {},
     "output_type": "execute_result"
    }
   ],
   "source": [
    "data = arff.loadarff('emotions.arff')\n",
    "df = pd.DataFrame(data[0])\n",
    "df.head()"
   ]
  },
  {
   "cell_type": "code",
   "execution_count": 6,
   "metadata": {},
   "outputs": [],
   "source": [
    "#Import the keras model and dense layer\n",
    "from keras.models import Sequential\n",
    "from keras.layers import Dense"
   ]
  },
  {
   "cell_type": "code",
   "execution_count": 61,
   "metadata": {},
   "outputs": [],
   "source": [
    "X=bankNote.drop('class', axis=1).values\n",
    "y=bankNote['class'].values"
   ]
  },
  {
   "cell_type": "code",
   "execution_count": 62,
   "metadata": {},
   "outputs": [
    {
     "name": "stdout",
     "output_type": "stream",
     "text": [
      "Model: \"sequential_14\"\n",
      "_________________________________________________________________\n",
      " Layer (type)                Output Shape              Param #   \n",
      "=================================================================\n",
      " dense_38 (Dense)            (None, 2)                 10        \n",
      "                                                                 \n",
      " dense_39 (Dense)            (None, 1)                 3         \n",
      "                                                                 \n",
      "=================================================================\n",
      "Total params: 13\n",
      "Trainable params: 13\n",
      "Non-trainable params: 0\n",
      "_________________________________________________________________\n"
     ]
    }
   ],
   "source": [
    "# First we will create model for bank note dataset\n",
    "# this is a binary dataset\n",
    "model=Sequential()\n",
    "model.add(Dense(2, input_shape=(4,), activation=\"relu\"))\n",
    "model.add(Dense(1, activation=\"sigmoid\"))\n",
    "model.compile(optimizer=\"adam\", loss=\"binary_crossentropy\", metrics='accuracy')\n",
    "model.summary()\n"
   ]
  },
  {
   "cell_type": "code",
   "execution_count": 63,
   "metadata": {},
   "outputs": [
    {
     "name": "stdout",
     "output_type": "stream",
     "text": [
      "Epoch 1/10\n",
      "35/35 [==============================] - 3s 26ms/step - loss: 1.4323 - accuracy: 0.5059 - val_loss: 1.1733 - val_accuracy: 0.5236\n",
      "Epoch 2/10\n",
      "35/35 [==============================] - 0s 11ms/step - loss: 1.2062 - accuracy: 0.5178 - val_loss: 0.9912 - val_accuracy: 0.5309\n",
      "Epoch 3/10\n",
      "35/35 [==============================] - 0s 4ms/step - loss: 1.0180 - accuracy: 0.5378 - val_loss: 0.8446 - val_accuracy: 0.5418\n",
      "Epoch 4/10\n",
      "35/35 [==============================] - 0s 5ms/step - loss: 0.8698 - accuracy: 0.5624 - val_loss: 0.7328 - val_accuracy: 0.5818\n",
      "Epoch 5/10\n",
      "35/35 [==============================] - 0s 4ms/step - loss: 0.7609 - accuracy: 0.5825 - val_loss: 0.6560 - val_accuracy: 0.5818\n",
      "Epoch 6/10\n",
      "35/35 [==============================] - 0s 5ms/step - loss: 0.6818 - accuracy: 0.6026 - val_loss: 0.5986 - val_accuracy: 0.6000\n",
      "Epoch 7/10\n",
      "35/35 [==============================] - 0s 5ms/step - loss: 0.6228 - accuracy: 0.6190 - val_loss: 0.5601 - val_accuracy: 0.6291\n",
      "Epoch 8/10\n",
      "35/35 [==============================] - 0s 5ms/step - loss: 0.5789 - accuracy: 0.6372 - val_loss: 0.5325 - val_accuracy: 0.6327\n",
      "Epoch 9/10\n",
      "35/35 [==============================] - 0s 5ms/step - loss: 0.5448 - accuracy: 0.6472 - val_loss: 0.5086 - val_accuracy: 0.6255\n",
      "Epoch 10/10\n",
      "35/35 [==============================] - 0s 4ms/step - loss: 0.5171 - accuracy: 0.6527 - val_loss: 0.4899 - val_accuracy: 0.6327\n"
     ]
    },
    {
     "data": {
      "text/plain": [
       "<keras.callbacks.History at 0x2298f8cb610>"
      ]
     },
     "execution_count": 63,
     "metadata": {},
     "output_type": "execute_result"
    }
   ],
   "source": [
    "model.fit(X,y, epochs=10, validation_split=0.2)"
   ]
  },
  {
   "cell_type": "code",
   "execution_count": 19,
   "metadata": {},
   "outputs": [
    {
     "name": "stdout",
     "output_type": "stream",
     "text": [
      "43/43 [==============================] - 0s 950us/step - loss: 0.6125\n"
     ]
    },
    {
     "data": {
      "text/plain": [
       "0.6124641299247742"
      ]
     },
     "execution_count": 19,
     "metadata": {},
     "output_type": "execute_result"
    }
   ],
   "source": [
    "model.evaluate(X,y)"
   ]
  },
  {
   "cell_type": "code",
   "execution_count": 27,
   "metadata": {},
   "outputs": [],
   "source": [
    "#preparing the dataset\n",
    "emotions=pd.read_csv('emotions_out.csv')\n",
    "X=emotions.drop(columns=['amazed-suprised','happy-pleased','relaxing-calm','quiet-still','sad-lonely','angry-aggresive']).values\n",
    "y=emotions[['amazed-suprised','happy-pleased','relaxing-calm','quiet-still','sad-lonely','angry-aggresive']].values"
   ]
  },
  {
   "cell_type": "code",
   "execution_count": 30,
   "metadata": {},
   "outputs": [
    {
     "data": {
      "text/plain": [
       "(593, 78)"
      ]
     },
     "execution_count": 30,
     "metadata": {},
     "output_type": "execute_result"
    }
   ],
   "source": [
    "emotions.shape"
   ]
  },
  {
   "cell_type": "code",
   "execution_count": 45,
   "metadata": {},
   "outputs": [
    {
     "name": "stdout",
     "output_type": "stream",
     "text": [
      "Model: \"sequential_8\"\n",
      "_________________________________________________________________\n",
      " Layer (type)                Output Shape              Param #   \n",
      "=================================================================\n",
      " dense_22 (Dense)            (None, 25)                1825      \n",
      "                                                                 \n",
      " dense_23 (Dense)            (None, 20)                520       \n",
      "                                                                 \n",
      " dense_24 (Dense)            (None, 15)                315       \n",
      "                                                                 \n",
      " dense_25 (Dense)            (None, 6)                 96        \n",
      "                                                                 \n",
      "=================================================================\n",
      "Total params: 2,756\n",
      "Trainable params: 2,756\n",
      "Non-trainable params: 0\n",
      "_________________________________________________________________\n"
     ]
    }
   ],
   "source": [
    "# Secondly we will create model for emotions dataset\n",
    "# this is a categorical dataset\n",
    "model=Sequential()\n",
    "model.add(Dense(25, input_shape=(72,), activation=\"tanh\"))\n",
    "model.add(Dense(20, activation='sigmoid'))\n",
    "model.add(Dense(15, activation='sigmoid'))\n",
    "model.add(Dense(6, activation=\"softmax\"))\n",
    "model.compile(optimizer=\"adam\", loss=\"categorical_crossentropy\", metrics='accuracy')\n",
    "model.summary()\n"
   ]
  },
  {
   "cell_type": "code",
   "execution_count": 47,
   "metadata": {},
   "outputs": [
    {
     "name": "stdout",
     "output_type": "stream",
     "text": [
      "Epoch 1/100\n",
      "15/15 [==============================] - 0s 12ms/step - loss: 3.3027 - accuracy: 0.3333 - val_loss: 3.4494 - val_accuracy: 0.2773\n",
      "Epoch 2/100\n",
      "15/15 [==============================] - 0s 5ms/step - loss: 3.3032 - accuracy: 0.2954 - val_loss: 3.4482 - val_accuracy: 0.2773\n",
      "Epoch 3/100\n",
      "15/15 [==============================] - 0s 5ms/step - loss: 3.3029 - accuracy: 0.3080 - val_loss: 3.4471 - val_accuracy: 0.3445\n",
      "Epoch 4/100\n",
      "15/15 [==============================] - 0s 14ms/step - loss: 3.3032 - accuracy: 0.3861 - val_loss: 3.4462 - val_accuracy: 0.3109\n",
      "Epoch 5/100\n",
      "15/15 [==============================] - 0s 10ms/step - loss: 3.3038 - accuracy: 0.3249 - val_loss: 3.4451 - val_accuracy: 0.2941\n",
      "Epoch 6/100\n",
      "15/15 [==============================] - 0s 11ms/step - loss: 3.3015 - accuracy: 0.2869 - val_loss: 3.4433 - val_accuracy: 0.2941\n",
      "Epoch 7/100\n",
      "15/15 [==============================] - 0s 13ms/step - loss: 3.3010 - accuracy: 0.2869 - val_loss: 3.4421 - val_accuracy: 0.2941\n",
      "Epoch 8/100\n",
      "15/15 [==============================] - 0s 15ms/step - loss: 3.3004 - accuracy: 0.2869 - val_loss: 3.4421 - val_accuracy: 0.2941\n",
      "Epoch 9/100\n",
      "15/15 [==============================] - 0s 14ms/step - loss: 3.2996 - accuracy: 0.2869 - val_loss: 3.4389 - val_accuracy: 0.2941\n",
      "Epoch 10/100\n",
      "15/15 [==============================] - 0s 14ms/step - loss: 3.2987 - accuracy: 0.2869 - val_loss: 3.4405 - val_accuracy: 0.2941\n",
      "Epoch 11/100\n",
      "15/15 [==============================] - 0s 14ms/step - loss: 3.2990 - accuracy: 0.2869 - val_loss: 3.4397 - val_accuracy: 0.2941\n",
      "Epoch 12/100\n",
      "15/15 [==============================] - 0s 14ms/step - loss: 3.2982 - accuracy: 0.2869 - val_loss: 3.4378 - val_accuracy: 0.2941\n",
      "Epoch 13/100\n",
      "15/15 [==============================] - 0s 15ms/step - loss: 3.2980 - accuracy: 0.2869 - val_loss: 3.4381 - val_accuracy: 0.2941\n",
      "Epoch 14/100\n",
      "15/15 [==============================] - 0s 14ms/step - loss: 3.2975 - accuracy: 0.2869 - val_loss: 3.4384 - val_accuracy: 0.2941\n",
      "Epoch 15/100\n",
      "15/15 [==============================] - 0s 5ms/step - loss: 3.2971 - accuracy: 0.2869 - val_loss: 3.4375 - val_accuracy: 0.2941\n",
      "Epoch 16/100\n",
      "15/15 [==============================] - 0s 5ms/step - loss: 3.2967 - accuracy: 0.2869 - val_loss: 3.4361 - val_accuracy: 0.2941\n",
      "Epoch 17/100\n",
      "15/15 [==============================] - 0s 5ms/step - loss: 3.2968 - accuracy: 0.2869 - val_loss: 3.4360 - val_accuracy: 0.2941\n",
      "Epoch 18/100\n",
      "15/15 [==============================] - 0s 5ms/step - loss: 3.2958 - accuracy: 0.2869 - val_loss: 3.4338 - val_accuracy: 0.2941\n",
      "Epoch 19/100\n",
      "15/15 [==============================] - 0s 5ms/step - loss: 3.2949 - accuracy: 0.2869 - val_loss: 3.4334 - val_accuracy: 0.2941\n",
      "Epoch 20/100\n",
      "15/15 [==============================] - 0s 6ms/step - loss: 3.2952 - accuracy: 0.2869 - val_loss: 3.4353 - val_accuracy: 0.2941\n",
      "Epoch 21/100\n",
      "15/15 [==============================] - 0s 13ms/step - loss: 3.2954 - accuracy: 0.2869 - val_loss: 3.4359 - val_accuracy: 0.2941\n",
      "Epoch 22/100\n",
      "15/15 [==============================] - 0s 13ms/step - loss: 3.2943 - accuracy: 0.2869 - val_loss: 3.4348 - val_accuracy: 0.2941\n",
      "Epoch 23/100\n",
      "15/15 [==============================] - 0s 14ms/step - loss: 3.2941 - accuracy: 0.2869 - val_loss: 3.4331 - val_accuracy: 0.2941\n",
      "Epoch 24/100\n",
      "15/15 [==============================] - 0s 14ms/step - loss: 3.2945 - accuracy: 0.2869 - val_loss: 3.4340 - val_accuracy: 0.2941\n",
      "Epoch 25/100\n",
      "15/15 [==============================] - 0s 13ms/step - loss: 3.2944 - accuracy: 0.2869 - val_loss: 3.4322 - val_accuracy: 0.2941\n",
      "Epoch 26/100\n",
      "15/15 [==============================] - 0s 14ms/step - loss: 3.2930 - accuracy: 0.2869 - val_loss: 3.4324 - val_accuracy: 0.2941\n",
      "Epoch 27/100\n",
      "15/15 [==============================] - 0s 12ms/step - loss: 3.2933 - accuracy: 0.2869 - val_loss: 3.4332 - val_accuracy: 0.2941\n",
      "Epoch 28/100\n",
      "15/15 [==============================] - 0s 14ms/step - loss: 3.2936 - accuracy: 0.2869 - val_loss: 3.4335 - val_accuracy: 0.2941\n",
      "Epoch 29/100\n",
      "15/15 [==============================] - 0s 12ms/step - loss: 3.2929 - accuracy: 0.2869 - val_loss: 3.4327 - val_accuracy: 0.2941\n",
      "Epoch 30/100\n",
      "15/15 [==============================] - 0s 14ms/step - loss: 3.2925 - accuracy: 0.2869 - val_loss: 3.4322 - val_accuracy: 0.2941\n",
      "Epoch 31/100\n",
      "15/15 [==============================] - 0s 14ms/step - loss: 3.2922 - accuracy: 0.2869 - val_loss: 3.4318 - val_accuracy: 0.2941\n",
      "Epoch 32/100\n",
      "15/15 [==============================] - 0s 13ms/step - loss: 3.2922 - accuracy: 0.2869 - val_loss: 3.4311 - val_accuracy: 0.2941\n",
      "Epoch 33/100\n",
      "15/15 [==============================] - 0s 13ms/step - loss: 3.2917 - accuracy: 0.2869 - val_loss: 3.4307 - val_accuracy: 0.2941\n",
      "Epoch 34/100\n",
      "15/15 [==============================] - 0s 15ms/step - loss: 3.2914 - accuracy: 0.2869 - val_loss: 3.4311 - val_accuracy: 0.2941\n",
      "Epoch 35/100\n",
      "15/15 [==============================] - 0s 6ms/step - loss: 3.2919 - accuracy: 0.2869 - val_loss: 3.4305 - val_accuracy: 0.2941\n",
      "Epoch 36/100\n",
      "15/15 [==============================] - 0s 5ms/step - loss: 3.2911 - accuracy: 0.2869 - val_loss: 3.4309 - val_accuracy: 0.2941\n",
      "Epoch 37/100\n",
      "15/15 [==============================] - 0s 5ms/step - loss: 3.2917 - accuracy: 0.2869 - val_loss: 3.4308 - val_accuracy: 0.2941\n",
      "Epoch 38/100\n",
      "15/15 [==============================] - 0s 5ms/step - loss: 3.2913 - accuracy: 0.2869 - val_loss: 3.4301 - val_accuracy: 0.2941\n",
      "Epoch 39/100\n",
      "15/15 [==============================] - 0s 5ms/step - loss: 3.2904 - accuracy: 0.2869 - val_loss: 3.4292 - val_accuracy: 0.2941\n",
      "Epoch 40/100\n",
      "15/15 [==============================] - 0s 5ms/step - loss: 3.2909 - accuracy: 0.2869 - val_loss: 3.4299 - val_accuracy: 0.2941\n",
      "Epoch 41/100\n",
      "15/15 [==============================] - 0s 5ms/step - loss: 3.2908 - accuracy: 0.2869 - val_loss: 3.4289 - val_accuracy: 0.2941\n",
      "Epoch 42/100\n",
      "15/15 [==============================] - 0s 5ms/step - loss: 3.2905 - accuracy: 0.2869 - val_loss: 3.4298 - val_accuracy: 0.2941\n",
      "Epoch 43/100\n",
      "15/15 [==============================] - 0s 8ms/step - loss: 3.2901 - accuracy: 0.2869 - val_loss: 3.4295 - val_accuracy: 0.2941\n",
      "Epoch 44/100\n",
      "15/15 [==============================] - 0s 5ms/step - loss: 3.2911 - accuracy: 0.2869 - val_loss: 3.4293 - val_accuracy: 0.2941\n",
      "Epoch 45/100\n",
      "15/15 [==============================] - 0s 5ms/step - loss: 3.2905 - accuracy: 0.2869 - val_loss: 3.4298 - val_accuracy: 0.2941\n",
      "Epoch 46/100\n",
      "15/15 [==============================] - 0s 13ms/step - loss: 3.2903 - accuracy: 0.2869 - val_loss: 3.4285 - val_accuracy: 0.2941\n",
      "Epoch 47/100\n",
      "15/15 [==============================] - 0s 17ms/step - loss: 3.2901 - accuracy: 0.2869 - val_loss: 3.4292 - val_accuracy: 0.2941\n",
      "Epoch 48/100\n",
      "15/15 [==============================] - 0s 6ms/step - loss: 3.2901 - accuracy: 0.2869 - val_loss: 3.4289 - val_accuracy: 0.2941\n",
      "Epoch 49/100\n",
      "15/15 [==============================] - 0s 5ms/step - loss: 3.2893 - accuracy: 0.2869 - val_loss: 3.4282 - val_accuracy: 0.2941\n",
      "Epoch 50/100\n",
      "15/15 [==============================] - 0s 5ms/step - loss: 3.2894 - accuracy: 0.2869 - val_loss: 3.4282 - val_accuracy: 0.2941\n",
      "Epoch 51/100\n",
      "15/15 [==============================] - 0s 5ms/step - loss: 3.2893 - accuracy: 0.2869 - val_loss: 3.4282 - val_accuracy: 0.2941\n",
      "Epoch 52/100\n",
      "15/15 [==============================] - 0s 5ms/step - loss: 3.2894 - accuracy: 0.2869 - val_loss: 3.4288 - val_accuracy: 0.2941\n",
      "Epoch 53/100\n",
      "15/15 [==============================] - 0s 5ms/step - loss: 3.2894 - accuracy: 0.2869 - val_loss: 3.4287 - val_accuracy: 0.2941\n",
      "Epoch 54/100\n",
      "15/15 [==============================] - 0s 5ms/step - loss: 3.2889 - accuracy: 0.2869 - val_loss: 3.4285 - val_accuracy: 0.2941\n",
      "Epoch 55/100\n",
      "15/15 [==============================] - 0s 13ms/step - loss: 3.2888 - accuracy: 0.2869 - val_loss: 3.4274 - val_accuracy: 0.2941\n",
      "Epoch 56/100\n",
      "15/15 [==============================] - 0s 12ms/step - loss: 3.2885 - accuracy: 0.2869 - val_loss: 3.4273 - val_accuracy: 0.2941\n",
      "Epoch 57/100\n",
      "15/15 [==============================] - 0s 13ms/step - loss: 3.2900 - accuracy: 0.2869 - val_loss: 3.4277 - val_accuracy: 0.2941\n",
      "Epoch 58/100\n",
      "15/15 [==============================] - 0s 14ms/step - loss: 3.2886 - accuracy: 0.2869 - val_loss: 3.4278 - val_accuracy: 0.2941\n",
      "Epoch 59/100\n",
      "15/15 [==============================] - 0s 12ms/step - loss: 3.2887 - accuracy: 0.2869 - val_loss: 3.4287 - val_accuracy: 0.2941\n",
      "Epoch 60/100\n",
      "15/15 [==============================] - 0s 13ms/step - loss: 3.2897 - accuracy: 0.2869 - val_loss: 3.4298 - val_accuracy: 0.2941\n",
      "Epoch 61/100\n",
      "15/15 [==============================] - 0s 12ms/step - loss: 3.2888 - accuracy: 0.2869 - val_loss: 3.4278 - val_accuracy: 0.2941\n",
      "Epoch 62/100\n",
      "15/15 [==============================] - 0s 14ms/step - loss: 3.2882 - accuracy: 0.2869 - val_loss: 3.4280 - val_accuracy: 0.2941\n",
      "Epoch 63/100\n",
      "15/15 [==============================] - 0s 8ms/step - loss: 3.2882 - accuracy: 0.2869 - val_loss: 3.4277 - val_accuracy: 0.2941\n",
      "Epoch 64/100\n",
      "15/15 [==============================] - 0s 5ms/step - loss: 3.2886 - accuracy: 0.2869 - val_loss: 3.4275 - val_accuracy: 0.2941\n",
      "Epoch 65/100\n",
      "15/15 [==============================] - 0s 8ms/step - loss: 3.2884 - accuracy: 0.2869 - val_loss: 3.4265 - val_accuracy: 0.2941\n",
      "Epoch 66/100\n",
      "15/15 [==============================] - 0s 12ms/step - loss: 3.2889 - accuracy: 0.2869 - val_loss: 3.4291 - val_accuracy: 0.2941\n",
      "Epoch 67/100\n",
      "15/15 [==============================] - 0s 13ms/step - loss: 3.2883 - accuracy: 0.2869 - val_loss: 3.4270 - val_accuracy: 0.2941\n",
      "Epoch 68/100\n",
      "15/15 [==============================] - 0s 12ms/step - loss: 3.2884 - accuracy: 0.2869 - val_loss: 3.4270 - val_accuracy: 0.2941\n",
      "Epoch 69/100\n",
      "15/15 [==============================] - 0s 13ms/step - loss: 3.2881 - accuracy: 0.2869 - val_loss: 3.4268 - val_accuracy: 0.2941\n",
      "Epoch 70/100\n",
      "15/15 [==============================] - 0s 13ms/step - loss: 3.2879 - accuracy: 0.2869 - val_loss: 3.4268 - val_accuracy: 0.2941\n",
      "Epoch 71/100\n",
      "15/15 [==============================] - 0s 11ms/step - loss: 3.2886 - accuracy: 0.2869 - val_loss: 3.4283 - val_accuracy: 0.2941\n",
      "Epoch 72/100\n",
      "15/15 [==============================] - 0s 14ms/step - loss: 3.2882 - accuracy: 0.2869 - val_loss: 3.4265 - val_accuracy: 0.2941\n",
      "Epoch 73/100\n",
      "15/15 [==============================] - 0s 10ms/step - loss: 3.2884 - accuracy: 0.2869 - val_loss: 3.4270 - val_accuracy: 0.2941\n",
      "Epoch 74/100\n",
      "15/15 [==============================] - 0s 14ms/step - loss: 3.2878 - accuracy: 0.2869 - val_loss: 3.4261 - val_accuracy: 0.2941\n",
      "Epoch 75/100\n",
      "15/15 [==============================] - 0s 13ms/step - loss: 3.2872 - accuracy: 0.2869 - val_loss: 3.4268 - val_accuracy: 0.2941\n",
      "Epoch 76/100\n",
      "15/15 [==============================] - 0s 5ms/step - loss: 3.2871 - accuracy: 0.2869 - val_loss: 3.4270 - val_accuracy: 0.2941\n",
      "Epoch 77/100\n",
      "15/15 [==============================] - 0s 13ms/step - loss: 3.2874 - accuracy: 0.2869 - val_loss: 3.4281 - val_accuracy: 0.2941\n",
      "Epoch 78/100\n",
      "15/15 [==============================] - 0s 13ms/step - loss: 3.2874 - accuracy: 0.2869 - val_loss: 3.4265 - val_accuracy: 0.2941\n",
      "Epoch 79/100\n",
      "15/15 [==============================] - 0s 14ms/step - loss: 3.2872 - accuracy: 0.2869 - val_loss: 3.4271 - val_accuracy: 0.2941\n",
      "Epoch 80/100\n",
      "15/15 [==============================] - 0s 15ms/step - loss: 3.2872 - accuracy: 0.2869 - val_loss: 3.4266 - val_accuracy: 0.2941\n",
      "Epoch 81/100\n",
      "15/15 [==============================] - 0s 16ms/step - loss: 3.2874 - accuracy: 0.2869 - val_loss: 3.4264 - val_accuracy: 0.2941\n",
      "Epoch 82/100\n",
      "15/15 [==============================] - 0s 13ms/step - loss: 3.2874 - accuracy: 0.2869 - val_loss: 3.4263 - val_accuracy: 0.2941\n",
      "Epoch 83/100\n",
      "15/15 [==============================] - 0s 15ms/step - loss: 3.2868 - accuracy: 0.2869 - val_loss: 3.4264 - val_accuracy: 0.2941\n",
      "Epoch 84/100\n",
      "15/15 [==============================] - 0s 12ms/step - loss: 3.2867 - accuracy: 0.2869 - val_loss: 3.4262 - val_accuracy: 0.2941\n",
      "Epoch 85/100\n",
      "15/15 [==============================] - 0s 5ms/step - loss: 3.2867 - accuracy: 0.2869 - val_loss: 3.4261 - val_accuracy: 0.2941\n",
      "Epoch 86/100\n",
      "15/15 [==============================] - 0s 12ms/step - loss: 3.2870 - accuracy: 0.2869 - val_loss: 3.4252 - val_accuracy: 0.2941\n",
      "Epoch 87/100\n",
      "15/15 [==============================] - 0s 14ms/step - loss: 3.2869 - accuracy: 0.2869 - val_loss: 3.4253 - val_accuracy: 0.2941\n",
      "Epoch 88/100\n",
      "15/15 [==============================] - 0s 6ms/step - loss: 3.2871 - accuracy: 0.2869 - val_loss: 3.4263 - val_accuracy: 0.2941\n",
      "Epoch 89/100\n",
      "15/15 [==============================] - 0s 13ms/step - loss: 3.2872 - accuracy: 0.2869 - val_loss: 3.4255 - val_accuracy: 0.2941\n",
      "Epoch 90/100\n",
      "15/15 [==============================] - 0s 15ms/step - loss: 3.2869 - accuracy: 0.2869 - val_loss: 3.4250 - val_accuracy: 0.2941\n",
      "Epoch 91/100\n",
      "15/15 [==============================] - 0s 13ms/step - loss: 3.2873 - accuracy: 0.2869 - val_loss: 3.4270 - val_accuracy: 0.2941\n",
      "Epoch 92/100\n",
      "15/15 [==============================] - 0s 9ms/step - loss: 3.2870 - accuracy: 0.2869 - val_loss: 3.4253 - val_accuracy: 0.2941\n",
      "Epoch 93/100\n",
      "15/15 [==============================] - 0s 5ms/step - loss: 3.2870 - accuracy: 0.2869 - val_loss: 3.4250 - val_accuracy: 0.2941\n",
      "Epoch 94/100\n",
      "15/15 [==============================] - 0s 5ms/step - loss: 3.2870 - accuracy: 0.2869 - val_loss: 3.4257 - val_accuracy: 0.2941\n",
      "Epoch 95/100\n",
      "15/15 [==============================] - 0s 11ms/step - loss: 3.2870 - accuracy: 0.2869 - val_loss: 3.4260 - val_accuracy: 0.2941\n",
      "Epoch 96/100\n",
      "15/15 [==============================] - 0s 12ms/step - loss: 3.2871 - accuracy: 0.2869 - val_loss: 3.4254 - val_accuracy: 0.2941\n",
      "Epoch 97/100\n",
      "15/15 [==============================] - 0s 14ms/step - loss: 3.2866 - accuracy: 0.2869 - val_loss: 3.4253 - val_accuracy: 0.2941\n",
      "Epoch 98/100\n",
      "15/15 [==============================] - 0s 12ms/step - loss: 3.2863 - accuracy: 0.2869 - val_loss: 3.4250 - val_accuracy: 0.2941\n",
      "Epoch 99/100\n",
      "15/15 [==============================] - 0s 13ms/step - loss: 3.2872 - accuracy: 0.2869 - val_loss: 3.4253 - val_accuracy: 0.2941\n",
      "Epoch 100/100\n",
      "15/15 [==============================] - 0s 12ms/step - loss: 3.2870 - accuracy: 0.2869 - val_loss: 3.4261 - val_accuracy: 0.2941\n"
     ]
    },
    {
     "data": {
      "text/plain": [
       "<keras.callbacks.History at 0x229898a3eb0>"
      ]
     },
     "execution_count": 47,
     "metadata": {},
     "output_type": "execute_result"
    }
   ],
   "source": [
    "model.fit(X,y, epochs=100, validation_split=0.2)"
   ]
  },
  {
   "cell_type": "code",
   "execution_count": 48,
   "metadata": {},
   "outputs": [
    {
     "name": "stdout",
     "output_type": "stream",
     "text": [
      "Model: \"sequential_9\"\n",
      "_________________________________________________________________\n",
      " Layer (type)                Output Shape              Param #   \n",
      "=================================================================\n",
      " dense_26 (Dense)            (None, 25)                1825      \n",
      "                                                                 \n",
      " dense_27 (Dense)            (None, 20)                520       \n",
      "                                                                 \n",
      " dense_28 (Dense)            (None, 15)                315       \n",
      "                                                                 \n",
      " dense_29 (Dense)            (None, 6)                 96        \n",
      "                                                                 \n",
      "=================================================================\n",
      "Total params: 2,756\n",
      "Trainable params: 2,756\n",
      "Non-trainable params: 0\n",
      "_________________________________________________________________\n"
     ]
    }
   ],
   "source": [
    "# Lastly we will create model for multi label\n",
    "# this is a categorical dataset\n",
    "model=Sequential()\n",
    "model.add(Dense(25, input_shape=(72,), activation=\"tanh\"))\n",
    "model.add(Dense(20, activation='sigmoid'))\n",
    "model.add(Dense(15, activation='sigmoid'))\n",
    "model.add(Dense(6, activation=\"sigmoid\"))\n",
    "model.compile(optimizer=\"adam\", loss=\"categorical_crossentropy\", metrics='accuracy')\n",
    "model.summary()\n"
   ]
  },
  {
   "cell_type": "code",
   "execution_count": 49,
   "metadata": {},
   "outputs": [
    {
     "name": "stdout",
     "output_type": "stream",
     "text": [
      "Epoch 1/20\n",
      "19/19 [==============================] - 1s 5ms/step - loss: 3.4693 - accuracy: 0.1214\n",
      "Epoch 2/20\n",
      "19/19 [==============================] - 0s 5ms/step - loss: 3.4178 - accuracy: 0.1079\n",
      "Epoch 3/20\n",
      "19/19 [==============================] - 0s 5ms/step - loss: 3.3895 - accuracy: 0.0556\n",
      "Epoch 4/20\n",
      "19/19 [==============================] - 0s 5ms/step - loss: 3.3753 - accuracy: 0.0405\n",
      "Epoch 5/20\n",
      "19/19 [==============================] - 0s 5ms/step - loss: 3.3671 - accuracy: 0.0405\n",
      "Epoch 6/20\n",
      "19/19 [==============================] - 0s 6ms/step - loss: 3.3647 - accuracy: 0.0405\n",
      "Epoch 7/20\n",
      "19/19 [==============================] - 0s 4ms/step - loss: 3.3625 - accuracy: 0.0624\n",
      "Epoch 8/20\n",
      "19/19 [==============================] - 0s 4ms/step - loss: 3.3640 - accuracy: 0.1720\n",
      "Epoch 9/20\n",
      "19/19 [==============================] - 0s 3ms/step - loss: 3.3575 - accuracy: 0.2901\n",
      "Epoch 10/20\n",
      "19/19 [==============================] - 0s 3ms/step - loss: 3.3529 - accuracy: 0.2901\n",
      "Epoch 11/20\n",
      "19/19 [==============================] - 0s 3ms/step - loss: 3.3549 - accuracy: 0.0675\n",
      "Epoch 12/20\n",
      "19/19 [==============================] - 0s 3ms/step - loss: 3.3522 - accuracy: 0.0405\n",
      "Epoch 13/20\n",
      "19/19 [==============================] - 0s 3ms/step - loss: 3.3536 - accuracy: 0.0405\n",
      "Epoch 14/20\n",
      "19/19 [==============================] - 0s 3ms/step - loss: 3.3554 - accuracy: 0.0405\n",
      "Epoch 15/20\n",
      "19/19 [==============================] - 0s 3ms/step - loss: 3.3581 - accuracy: 0.0405\n",
      "Epoch 16/20\n",
      "19/19 [==============================] - 0s 2ms/step - loss: 3.3600 - accuracy: 0.0405\n",
      "Epoch 17/20\n",
      "19/19 [==============================] - 0s 2ms/step - loss: 3.3566 - accuracy: 0.0405\n",
      "Epoch 18/20\n",
      "19/19 [==============================] - 0s 2ms/step - loss: 3.3505 - accuracy: 0.0405\n",
      "Epoch 19/20\n",
      "19/19 [==============================] - 0s 2ms/step - loss: 3.3449 - accuracy: 0.0405\n",
      "Epoch 20/20\n",
      "19/19 [==============================] - 0s 2ms/step - loss: 3.3382 - accuracy: 0.2563\n"
     ]
    },
    {
     "data": {
      "text/plain": [
       "<keras.callbacks.History at 0x2298abd7e80>"
      ]
     },
     "execution_count": 49,
     "metadata": {},
     "output_type": "execute_result"
    }
   ],
   "source": [
    "model.fit(X,y, epochs=20)"
   ]
  },
  {
   "cell_type": "markdown",
   "metadata": {},
   "source": [
    "## Keras Call backs"
   ]
  },
  {
   "cell_type": "code",
   "execution_count": 64,
   "metadata": {},
   "outputs": [
    {
     "name": "stdout",
     "output_type": "stream",
     "text": [
      "Model: \"sequential_15\"\n",
      "_________________________________________________________________\n",
      " Layer (type)                Output Shape              Param #   \n",
      "=================================================================\n",
      " dense_40 (Dense)            (None, 2)                 10        \n",
      "                                                                 \n",
      " dense_41 (Dense)            (None, 1)                 3         \n",
      "                                                                 \n",
      "=================================================================\n",
      "Total params: 13\n",
      "Trainable params: 13\n",
      "Non-trainable params: 0\n",
      "_________________________________________________________________\n"
     ]
    }
   ],
   "source": [
    "bankNote=pd.read_csv('banknote.csv')\n",
    "car=pd.read_csv('car.csv')\n",
    "bankNote=shuffle(bankNote)\n",
    "X=bankNote.drop('class', axis=1).values\n",
    "y=bankNote['class'].values\n",
    "\n",
    "# First we will create model for bank note dataset\n",
    "# this is a binary dataset\n",
    "model=Sequential()\n",
    "model.add(Dense(2, input_shape=(4,), activation=\"relu\"))\n",
    "model.add(Dense(1, activation=\"sigmoid\"))\n",
    "model.compile(optimizer=\"adam\", loss=\"binary_crossentropy\", metrics='accuracy')\n",
    "model.summary()\n"
   ]
  },
  {
   "cell_type": "code",
   "execution_count": 73,
   "metadata": {},
   "outputs": [
    {
     "name": "stdout",
     "output_type": "stream",
     "text": [
      "Epoch 1/20\n",
      "30/30 [==============================] - 1s 8ms/step - loss: 0.1518 - accuracy: 0.9854 - val_loss: 0.1758 - val_accuracy: 0.9854\n",
      "Epoch 2/20\n",
      "30/30 [==============================] - 0s 4ms/step - loss: 0.1494 - accuracy: 0.9854 - val_loss: 0.1729 - val_accuracy: 0.9854\n",
      "Epoch 3/20\n",
      "30/30 [==============================] - 0s 4ms/step - loss: 0.1470 - accuracy: 0.9865 - val_loss: 0.1701 - val_accuracy: 0.9879\n",
      "Epoch 4/20\n",
      "30/30 [==============================] - 0s 8ms/step - loss: 0.1447 - accuracy: 0.9854 - val_loss: 0.1675 - val_accuracy: 0.9879\n",
      "Epoch 5/20\n",
      "30/30 [==============================] - 0s 14ms/step - loss: 0.1425 - accuracy: 0.9865 - val_loss: 0.1646 - val_accuracy: 0.9903\n",
      "Epoch 6/20\n",
      "30/30 [==============================] - 0s 10ms/step - loss: 0.1402 - accuracy: 0.9865 - val_loss: 0.1620 - val_accuracy: 0.9903\n",
      "Epoch 7/20\n",
      "30/30 [==============================] - 0s 10ms/step - loss: 0.1381 - accuracy: 0.9865 - val_loss: 0.1597 - val_accuracy: 0.9903\n",
      "Epoch 8/20\n",
      "30/30 [==============================] - 0s 9ms/step - loss: 0.1360 - accuracy: 0.9885 - val_loss: 0.1570 - val_accuracy: 0.9903\n",
      "Epoch 9/20\n",
      "30/30 [==============================] - 0s 10ms/step - loss: 0.1339 - accuracy: 0.9875 - val_loss: 0.1548 - val_accuracy: 0.9903\n",
      "Epoch 10/20\n",
      "30/30 [==============================] - 0s 12ms/step - loss: 0.1320 - accuracy: 0.9875 - val_loss: 0.1523 - val_accuracy: 0.9903\n",
      "Epoch 11/20\n",
      "30/30 [==============================] - 0s 12ms/step - loss: 0.1301 - accuracy: 0.9875 - val_loss: 0.1500 - val_accuracy: 0.9903\n",
      "Epoch 12/20\n",
      "30/30 [==============================] - 0s 12ms/step - loss: 0.1281 - accuracy: 0.9875 - val_loss: 0.1479 - val_accuracy: 0.9903\n",
      "Epoch 13/20\n",
      "30/30 [==============================] - 0s 13ms/step - loss: 0.1263 - accuracy: 0.9875 - val_loss: 0.1455 - val_accuracy: 0.9903\n",
      "Epoch 14/20\n",
      "30/30 [==============================] - 0s 9ms/step - loss: 0.1244 - accuracy: 0.9875 - val_loss: 0.1432 - val_accuracy: 0.9903\n",
      "Epoch 15/20\n",
      "30/30 [==============================] - 0s 9ms/step - loss: 0.1227 - accuracy: 0.9885 - val_loss: 0.1410 - val_accuracy: 0.9903\n",
      "Epoch 16/20\n",
      "30/30 [==============================] - 0s 9ms/step - loss: 0.1209 - accuracy: 0.9885 - val_loss: 0.1389 - val_accuracy: 0.9903\n",
      "Epoch 17/20\n",
      "30/30 [==============================] - 0s 10ms/step - loss: 0.1193 - accuracy: 0.9885 - val_loss: 0.1369 - val_accuracy: 0.9903\n",
      "Epoch 18/20\n",
      "30/30 [==============================] - 0s 10ms/step - loss: 0.1177 - accuracy: 0.9885 - val_loss: 0.1350 - val_accuracy: 0.9903\n",
      "Epoch 19/20\n",
      "30/30 [==============================] - 0s 11ms/step - loss: 0.1160 - accuracy: 0.9885 - val_loss: 0.1327 - val_accuracy: 0.9903\n",
      "Epoch 20/20\n",
      "30/30 [==============================] - 0s 9ms/step - loss: 0.1144 - accuracy: 0.9885 - val_loss: 0.1310 - val_accuracy: 0.9903\n",
      "[0.9854166507720947, 0.9854166507720947, 0.9864583611488342, 0.9854166507720947, 0.9864583611488342, 0.9864583611488342, 0.9864583611488342, 0.9885416626930237, 0.987500011920929, 0.987500011920929, 0.987500011920929, 0.987500011920929, 0.987500011920929, 0.987500011920929, 0.9885416626930237, 0.9885416626930237, 0.9885416626930237, 0.9885416626930237, 0.9885416626930237, 0.9885416626930237]\n"
     ]
    }
   ],
   "source": [
    "history=model.fit(X, y, epochs=20, validation_split=0.3)\n",
    "print(history.history['accuracy'])"
   ]
  },
  {
   "cell_type": "code",
   "execution_count": 74,
   "metadata": {},
   "outputs": [
    {
     "data": {
      "image/png": "[encoded data removed]",
      "text/plain": [
       "<Figure size 432x288 with 1 Axes>"
      ]
     },
     "metadata": {
      "needs_background": "light"
     },
     "output_type": "display_data"
    }
   ],
   "source": [
    "# we can print acc, val_loss, val_acc\n",
    "#now lets plot the graphs of accuracy\n",
    "\n",
    "import matplotlib.pyplot as plt\n",
    "\n",
    "plt.figure()\n",
    "\n",
    "plt.plot(history.history['accuracy'])\n",
    "plt.plot(history.history['val_accuracy'])\n",
    "\n",
    "plt.title(\"Model Accuracy\")\n",
    "plt.ylabel(\"Accuracy\")\n",
    "plt.xlabel(\"Epochs\")\n",
    "plt.legend(['Train','Test'])\n",
    "plt.show()"
   ]
  },
  {
   "cell_type": "code",
   "execution_count": null,
   "metadata": {},
   "outputs": [],
   "source": []
  }
 ],
 "metadata": {
  "kernelspec": {
   "display_name": "Python 3.8.3 ('base')",
   "language": "python",
   "name": "python3"
  },
  "language_info": {
   "codemirror_mode": {
    "name": "ipython",
    "version": 3
   },
   "file_extension": ".py",
   "mimetype": "text/x-python",
   "name": "python",
   "nbconvert_exporter": "python",
   "pygments_lexer": "ipython3",
   "version": "3.8.3"
  },
  "orig_nbformat": 4,
  "vscode": {
   "interpreter": {
    "hash": "ad2bdc8ecc057115af97d19610ffacc2b4e99fae6737bb82f5d7fb13d2f2c186"
   }
  }
 },
 "nbformat": 4,
 "nbformat_minor": 2
}
